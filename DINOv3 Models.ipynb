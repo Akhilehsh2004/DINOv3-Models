{
 "cells": [
  {
   "cell_type": "markdown",
   "id": "f7545bd2-2e36-4e4d-8249-df52978ac535",
   "metadata": {},
   "source": [
    "# **DINOv3 Models**: AI and Human Brain Visual Alignment Simulation|"
   ]
  },
  {
   "cell_type": "markdown",
   "id": "91fdcfd0-b8c2-42c7-a43d-8d00d06014e7",
   "metadata": {},
   "source": [
    "The code simulates **DINOv3**-like AI processing of images and compares it with human brain responses. Early AI layers capture simple features, deep layers capture complex patterns, while simulated fMRI and MEG signals mimic human vision. Cosine similarity and visualizations reveal hierarchical alignment, reflecting how AI mirrors human visual processing.\n",
    "\n",
    "By: **Akhilesh Pant** (MCA)\n",
    "**Amrapali University**, Haldwani\n"
   ]
  },
  {
   "cell_type": "markdown",
   "id": "45aa12cf-303d-443c-b64f-a646b64388a4",
   "metadata": {},
   "source": [
    "# Imports"
   ]
  },
  {
   "cell_type": "code",
   "execution_count": 3,
   "id": "50b03282-8ac8-4ef6-bb08-936c87bd01d8",
   "metadata": {},
   "outputs": [],
   "source": [
    "import numpy as np\n",
    "import random\n",
    "import math\n",
    "import matplotlib.pyplot as plt"
   ]
  },
  {
   "cell_type": "markdown",
   "id": "41e001a6-bfc7-4078-9b7a-741b34ba2926",
   "metadata": {},
   "source": [
    "# Simulate “images”\n",
    "\n",
    "Defines 5 “image types”.\n",
    "For each type, creates a 100-number vector of random values to act like an image’s features."
   ]
  },
  {
   "cell_type": "code",
   "execution_count": 6,
   "id": "d23781de-2cc8-46e9-b8a6-37ed340ffde2",
   "metadata": {},
   "outputs": [],
   "source": [
    "image_types = [\"Human Face\", \"Animal\", \"Nature\", \"Satellite\", \"Microscopic\"]\n",
    "num_images = len(image_types)\n",
    "image_data = {img_type: np.random.rand(100) for img_type in image_types}"
   ]
  },
  {
   "cell_type": "markdown",
   "id": "b7114278-2a17-40bd-a498-0910a83a22ae",
   "metadata": {},
   "source": [
    "# AI brain: processing function (early & deep)"
   ]
  },
  {
   "cell_type": "markdown",
   "id": "9820631e-2633-4821-a044-592e8b77df46",
   "metadata": {},
   "source": [
    "**Early layer**: takes square root → mimics simple edge/shape detection.\n",
    "\n",
    "**Deep layer**: applies a non-linear log transform on (image + early) → mimics higher-level understanding."
   ]
  },
  {
   "cell_type": "code",
   "execution_count": 12,
   "id": "bf9ef982-756c-46b2-a32d-5094b1818d90",
   "metadata": {},
   "outputs": [],
   "source": [
    "def ai_brain_process(image_vector):\n",
    "    early_layer = np.sqrt(image_vector)\n",
    "    deep_layer = np.log1p(image_vector + early_layer)\n",
    "    return early_layer, deep_layer"
   ]
  },
  {
   "cell_type": "markdown",
   "id": "f5faf314-bd3f-4360-a1cf-fd857b6f7ccb",
   "metadata": {},
   "source": [
    "# AI brain: run on all “images”"
   ]
  },
  {
   "cell_type": "code",
   "execution_count": 18,
   "id": "e8efd3d0-a165-420a-8a3b-c5d463001b5a",
   "metadata": {},
   "outputs": [],
   "source": [
    "ai_early_features = {}\n",
    "ai_deep_features = {}\n",
    "\n",
    "for img_type, vector in image_data.items():\n",
    "    early, deep = ai_brain_process(vector)\n",
    "    ai_early_features[img_type] = early\n",
    "    ai_deep_features[img_type] = deep"
   ]
  },
  {
   "cell_type": "markdown",
   "id": "6417c06b-b821-44f2-b2bd-4842fe7b1b61",
   "metadata": {},
   "source": [
    "# Human brain: response function (fMRI + MEG) and dataset"
   ]
  },
  {
   "cell_type": "code",
   "execution_count": 21,
   "id": "636cc1c6-3ef6-4fec-931d-e5ab063fa9e3",
   "metadata": {},
   "outputs": [],
   "source": [
    "def human_brain_response(image_vector):\n",
    "    fmri_signal = image_vector + np.random.rand(len(image_vector)) * 0.1\n",
    "    meg_signal = np.sin(image_vector * math.pi) + np.random.rand(len(image_vector)) * 0.05\n",
    "    combined = (fmri_signal + meg_signal) / 2\n",
    "    return combined\n",
    "\n",
    "human_brain_data = {}\n",
    "for img_type, vector in image_data.items():\n",
    "    human_brain_data[img_type] = human_brain_response(vector)"
   ]
  },
  {
   "cell_type": "markdown",
   "id": "62c2471c-17bc-4777-b10a-f165940b047f",
   "metadata": {},
   "source": [
    "# Similarity metric (cosine)"
   ]
  },
  {
   "cell_type": "code",
   "execution_count": 24,
   "id": "1d8da532-b9b7-49ba-a505-86f13469b752",
   "metadata": {},
   "outputs": [],
   "source": [
    "def cosine_similarity(vec1, vec2):\n",
    "    dot_product = np.dot(vec1, vec2)\n",
    "    norm_vec1 = np.linalg.norm(vec1)\n",
    "    norm_vec2 = np.linalg.norm(vec2)\n",
    "    return dot_product / (norm_vec1 * norm_vec2)"
   ]
  },
  {
   "cell_type": "markdown",
   "id": "8d86a158-e1d9-4dae-ab47-addfe7ba72b7",
   "metadata": {},
   "source": [
    "# Overall AI-vs-Brain similarity (current approach)"
   ]
  },
  {
   "cell_type": "code",
   "execution_count": 31,
   "id": "bb4ce84b-cf9f-46b6-b454-a2b4238f62ff",
   "metadata": {},
   "outputs": [],
   "source": [
    "similarities = {}\n",
    "for img_type in image_types:\n",
    "    # Combine AI features by averaging (both 100 -> final 100)\n",
    "    ai_combined = (ai_early_features[img_type] + ai_deep_features[img_type]) / 2\n",
    "\n",
    "    human_data = human_brain_data[img_type]\n",
    "\n",
    "    similarity_score = cosine_similarity(ai_combined, human_data) * 100\n",
    "    similarities[img_type] = similarity_score\n"
   ]
  },
  {
   "cell_type": "markdown",
   "id": "4df24df0-fc8a-48dc-9c8d-aac07656b15c",
   "metadata": {},
   "source": [
    "# Print similarity scores"
   ]
  },
  {
   "cell_type": "code",
   "execution_count": 34,
   "id": "d193d99e-9b27-44b2-94c0-bb78efec3411",
   "metadata": {},
   "outputs": [
    {
     "name": "stdout",
     "output_type": "stream",
     "text": [
      "Human Face: 98.45%\n",
      "Animal: 97.77%\n",
      "Nature: 98.26%\n",
      "Satellite: 97.39%\n",
      "Microscopic: 97.82%\n"
     ]
    }
   ],
   "source": [
    "for img_type, score in similarities.items():\n",
    "    print(f\"{img_type}: {score:.2f}%\")"
   ]
  },
  {
   "cell_type": "markdown",
   "id": "746e7153-4bd6-4a3a-8118-39d1a72a55b1",
   "metadata": {},
   "source": [
    "# Plot 1 — Overall similarity bars"
   ]
  },
  {
   "cell_type": "code",
   "execution_count": 37,
   "id": "195fa8d0-92f6-4994-94cf-8e202c2b6ae0",
   "metadata": {},
   "outputs": [
    {
     "data": {
      "image/png": "[encoded data removed]",
      "text/plain": [
       "<Figure size 1000x500 with 1 Axes>"
      ]
     },
     "metadata": {},
     "output_type": "display_data"
    }
   ],
   "source": [
    "plt.figure(figsize=(10, 5))\n",
    "plt.bar(similarities.keys(), similarities.values(), color='royalblue')\n",
    "...\n",
    "plt.show()"
   ]
  },
  {
   "cell_type": "markdown",
   "id": "e6169104-e929-4cf7-bc39-d01fb2e3c859",
   "metadata": {},
   "source": [
    "# Early vs Deep: compute separate similarities (current approach)"
   ]
  },
  {
   "cell_type": "code",
   "execution_count": 44,
   "id": "0412d0a8-eb77-44ef-ba32-fca7a529c6a1",
   "metadata": {},
   "outputs": [],
   "source": [
    "early_sim = []\n",
    "deep_sim = []\n",
    "\n",
    "for img_type in image_types:\n",
    "    human_data = human_brain_data[img_type]\n",
    "    mid = len(human_data) // 2\n",
    "    human_early = human_data[:mid]\n",
    "    human_deep = human_data[mid:]\n",
    "\n",
    "    # Resize to match AI feature length (100)\n",
    "    human_early_resized = np.resize(human_early, 100)\n",
    "    human_deep_resized = np.resize(human_deep, 100)\n",
    "\n",
    "    # Compute similarity\n",
    "    early_score = cosine_similarity(ai_early_features[img_type], human_early_resized) * 100\n",
    "    deep_score = cosine_similarity(ai_deep_features[img_type], human_deep_resized) * 100\n",
    "\n",
    "    early_sim.append(early_score)\n",
    "    deep_sim.append(deep_score)\n"
   ]
  },
  {
   "cell_type": "markdown",
   "id": "13a4ebcf-1b91-45d5-bfbe-185356272e0c",
   "metadata": {},
   "source": [
    "# Plot 2 — Early vs Deep bars"
   ]
  },
  {
   "cell_type": "code",
   "execution_count": 49,
   "id": "b828addc-75d5-4672-88b7-98b914fb453d",
   "metadata": {},
   "outputs": [
    {
     "data": {
      "image/png": "[encoded data removed]",
      "text/plain": [
       "<Figure size 1000x500 with 1 Axes>"
      ]
     },
     "metadata": {},
     "output_type": "display_data"
    }
   ],
   "source": [
    "# ----------------------------\n",
    "# 6. Early vs Deep Layer Similarity Visualization\n",
    "# ----------------------------\n",
    "\n",
    "# Create positions for each image type\n",
    "x = np.arange(len(image_types))\n",
    "\n",
    "# Define width for grouped bars\n",
    "width = 0.35  # Adjust between 0.2 and 0.4 for spacing\n",
    "\n",
    "# Plot bars\n",
    "plt.figure(figsize=(10, 5))\n",
    "plt.bar(x - width/2, early_sim, width, label='Early Vision Areas', color='orange')\n",
    "plt.bar(x + width/2, deep_sim, width, label='Deep Vision Areas', color='green')\n",
    "\n",
    "# Labels and formatting\n",
    "plt.title(\"Early vs Deep Layer Similarity (AI vs Human Brain)\", fontsize=14)\n",
    "plt.xlabel(\"Image Type\")\n",
    "plt.ylabel(\"Similarity (%)\")\n",
    "plt.xticks(x, image_types)\n",
    "plt.legend()\n",
    "plt.grid(axis='y', linestyle='--', alpha=0.7)\n",
    "\n",
    "# Show the plot\n",
    "plt.show()\n"
   ]
  }
 ],
 "metadata": {
  "kernelspec": {
   "display_name": "Python (fingerprint)",
   "language": "python",
   "name": "fingerprint-env"
  },
  "language_info": {
   "codemirror_mode": {
    "name": "ipython",
    "version": 3
   },
   "file_extension": ".py",
   "mimetype": "text/x-python",
   "name": "python",
   "nbconvert_exporter": "python",
   "pygments_lexer": "ipython3",
   "version": "3.12.7"
  }
 },
 "nbformat": 4,
 "nbformat_minor": 5
}
